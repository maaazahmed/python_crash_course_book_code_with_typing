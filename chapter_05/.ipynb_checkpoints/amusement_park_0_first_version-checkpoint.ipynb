{
 "cells": [
  {
   "cell_type": "code",
   "execution_count": 1,
   "metadata": {},
   "outputs": [
    {
     "name": "stdout",
     "output_type": "stream",
     "text": [
      "your addmission cost is 0$.\n"
     ]
    }
   ],
   "source": [
    "age:int =  3\n",
    "\n",
    "if age < 4:\n",
    "    print(\"your addmission cost is 0$.\")\n",
    "elif age < 18:\n",
    "    print(\"Your addmission Cost is 25$.\" )\n",
    "else:\n",
    "    print(\"Your addmission Cost is 40$.\")"
   ]
  },
  {
   "cell_type": "code",
   "execution_count": 2,
   "metadata": {},
   "outputs": [
    {
     "name": "stdout",
     "output_type": "stream",
     "text": [
      "Python 3.11.4\r\n"
     ]
    }
   ],
   "source": [
    "!python -V"
   ]
  },
  {
   "cell_type": "code",
   "execution_count": 3,
   "metadata": {},
   "outputs": [
    {
     "name": "stdout",
     "output_type": "stream",
     "text": [
      "usage: conda [-h] [--no-plugins] [-V] COMMAND ...\n",
      "\n",
      "conda is a tool for managing and deploying applications, environments and packages.\n",
      "\n",
      "options:\n",
      "  -h, --help          Show this help message and exit.\n",
      "  --no-plugins        Disable all plugins that are not built into conda.\n",
      "  -V, --version       Show the conda version number and exit.\n",
      "\n",
      "commands:\n",
      "  The following built-in and plugins subcommands are available.\n",
      "\n",
      "  COMMAND\n",
      "    build             Build conda packages from a conda recipe.\n",
      "    clean             Remove unused packages and caches.\n",
      "    compare           Compare packages between conda environments.\n",
      "    config            Modify configuration values in .condarc.\n",
      "    content-trust     See `conda content-trust --help`.\n",
      "    convert           Convert pure Python packages to other platforms (a.k.a.,\n",
      "                      subdirs).\n",
      "    create            Create a new conda environment from a list of specified\n",
      "                      packages.\n",
      "    debug             Debug the build or test phases of conda recipes.\n",
      "    develop           Install a Python package in 'development mode'. Similar\n",
      "                      to `pip install --editable`.\n",
      "    doctor            Display a health report for your environment.\n",
      "    env               See `conda env --help`.\n",
      "    index             Update package index metadata files. Pending\n",
      "                      deprecation, use https://github.com/conda/conda-index\n",
      "                      instead.\n",
      "    info              Display information about current conda install.\n",
      "    init              Initialize conda for shell interaction.\n",
      "    inspect           Tools for inspecting conda packages.\n",
      "    install           Install a list of packages into a specified conda\n",
      "                      environment.\n",
      "    list              List installed packages in a conda environment.\n",
      "    metapackage       Specialty tool for generating conda metapackage.\n",
      "    notices           Retrieve latest channel notifications.\n",
      "    pack              See `conda pack --help`.\n",
      "    package           Create low-level conda packages. (EXPERIMENTAL)\n",
      "    remove (uninstall)\n",
      "                      Remove a list of packages from a specified conda\n",
      "                      environment.\n",
      "    rename            Rename an existing environment.\n",
      "    render            Expand a conda recipe into a platform-specific recipe.\n",
      "    repo              See `conda repo --help`.\n",
      "    run               Run an executable in a conda environment.\n",
      "    search            Search for packages and display associated information\n",
      "                      using the MatchSpec format.\n",
      "    server            See `conda server --help`.\n",
      "    skeleton          Generate boilerplate conda recipes.\n",
      "    token             See `conda token --help`.\n",
      "    update (upgrade)  Update conda packages to the latest compatible version.\n",
      "    verify            See `conda verify --help`.\n",
      "\n",
      "Note: you may need to restart the kernel to use updated packages.\n"
     ]
    }
   ],
   "source": [
    "conda activate "
   ]
  },
  {
   "cell_type": "code",
   "execution_count": null,
   "metadata": {},
   "outputs": [],
   "source": []
  }
 ],
 "metadata": {
  "kernelspec": {
   "display_name": "Python 3 (ipykernel)",
   "language": "python",
   "name": "python3"
  },
  "language_info": {
   "codemirror_mode": {
    "name": "ipython",
    "version": 3
   },
   "file_extension": ".py",
   "mimetype": "text/x-python",
   "name": "python",
   "nbconvert_exporter": "python",
   "pygments_lexer": "ipython3",
   "version": "3.11.4"
  }
 },
 "nbformat": 4,
 "nbformat_minor": 2
}
