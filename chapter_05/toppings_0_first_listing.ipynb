{
 "cells": [
  {
   "cell_type": "code",
   "execution_count": null,
   "metadata": {},
   "outputs": [],
   "source": [
    "requested_topping:str = 'mushrooms'\n",
    "\n",
    "if requested_topping != \"anchovies\":\n",
    "    print(\"Hold the anchovies!\")"
   ]
  }
 ],
 "metadata": {
  "language_info": {
   "name": "python"
  }
 },
 "nbformat": 4,
 "nbformat_minor": 2
}
