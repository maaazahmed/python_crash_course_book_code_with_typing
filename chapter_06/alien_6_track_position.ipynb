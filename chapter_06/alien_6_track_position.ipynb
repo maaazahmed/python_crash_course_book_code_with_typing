{
 "cells": [
  {
   "cell_type": "code",
   "execution_count": 4,
   "metadata": {},
   "outputs": [
    {
     "name": "stdout",
     "output_type": "stream",
     "text": [
      "orignal postion is 0\n",
      "New position: None\n"
     ]
    }
   ],
   "source": [
    "alien_0:dict  = {\"x_position\":0, \"y_position\":25, \"speed\":\"medium\"}\n",
    "\n",
    "print(f\"orignal postion is {alien_0['x_position']}\")\n",
    "\n",
    "\n",
    "if alien_0[\"speed\"] == \"slow\":\n",
    "    x_increment:int = 1\n",
    "elif alien_0[\"speed\"] == \"medium\":\n",
    "    x_increment:int = 2\n",
    "else:\n",
    "    x_increment:int =  3\n",
    "\n",
    "\n",
    "alien_0[\"x_position\"] = alien_0[\"x_position\"] + x_increment\n",
    "\n",
    "print(f\"New position: {alien_0['x_position']}\")\n",
    "print(f\"New position: {alien_0.get(\"x_position\")}\")"
   ]
  },
  {
   "cell_type": "code",
   "execution_count": null,
   "metadata": {},
   "outputs": [],
   "source": []
  }
 ],
 "metadata": {
  "kernelspec": {
   "display_name": "python_env_3_12",
   "language": "python",
   "name": "python3"
  },
  "language_info": {
   "codemirror_mode": {
    "name": "ipython",
    "version": 3
   },
   "file_extension": ".py",
   "mimetype": "text/x-python",
   "name": "python",
   "nbconvert_exporter": "python",
   "pygments_lexer": "ipython3",
   "version": "3.12.3"
  }
 },
 "nbformat": 4,
 "nbformat_minor": 2
}
