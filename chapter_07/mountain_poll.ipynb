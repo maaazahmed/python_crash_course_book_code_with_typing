{
 "cells": [
  {
   "cell_type": "code",
   "execution_count": 3,
   "metadata": {},
   "outputs": [
    {
     "name": "stdout",
     "output_type": "stream",
     "text": [
      "\n",
      "--- Poll Results ---\n",
      "Aslam would like to climb k2\n",
      "salman would like to climb k3\n"
     ]
    }
   ],
   "source": [
    "responses:dict[str, str] = {}\n",
    "\n",
    "polling_active:bool = True\n",
    "\n",
    "\n",
    "\n",
    "while polling_active:\n",
    "    name:str = input(\"\\nWhat is your name?\")\n",
    "    response:str = input(\"Which mountain would you like to climb someday? \")\n",
    "    responses[name] = response\n",
    "\n",
    "    \n",
    "    repeat:str = input(\"Would you like to let another person respond? (yes/ no) \")\n",
    "\n",
    "    if repeat == \"no\":\n",
    "        polling_active =False\n",
    "\n",
    "\n",
    "print(\"\\n--- Poll Results ---\")\n",
    "for key , value in responses.items():\n",
    "    print(f\"{key} would like to climb {value}\")\n",
    "\n",
    "\n",
    "\n",
    "\n",
    "    \n"
   ]
  },
  {
   "cell_type": "code",
   "execution_count": null,
   "metadata": {},
   "outputs": [],
   "source": []
  }
 ],
 "metadata": {
  "kernelspec": {
   "display_name": "python_env_3_12",
   "language": "python",
   "name": "python3"
  },
  "language_info": {
   "codemirror_mode": {
    "name": "ipython",
    "version": 3
   },
   "file_extension": ".py",
   "mimetype": "text/x-python",
   "name": "python",
   "nbconvert_exporter": "python",
   "pygments_lexer": "ipython3",
   "version": "3.12.3"
  }
 },
 "nbformat": 4,
 "nbformat_minor": 2
}
