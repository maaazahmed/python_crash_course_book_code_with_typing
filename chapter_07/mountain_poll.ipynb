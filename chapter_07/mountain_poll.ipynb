{
 "cells": [
  {
   "cell_type": "code",
   "execution_count": null,
   "metadata": {},
   "outputs": [],
   "source": [
    "responses:dict[str, str] = {}\n",
    "\n",
    "polling_active:bool = True\n",
    "\n",
    "\n",
    "\n",
    "while polling_active:\n",
    "    name:str = input(\"\\nWhat is your name?\")\n",
    "    response:str = input(\"Which mountain would you like to climb someday? \")\n",
    "    responses[name] = response\n",
    "\n",
    "    \n",
    "    repeat:str = input(\"Would you like to let another person respond? (yes/ no) \")\n",
    "\n",
    "    if repeat == \"no\":\n",
    "        polling_active =False\n",
    "\n",
    "\n",
    "print(\"\\n--- Poll Results ---\")\n",
    "for key , value in responses.items():\n",
    "    print(f\"{key} would like to climb {value}\")\n",
    "\n",
    "\n",
    "\n",
    "\n",
    "    \n"
   ]
  },
  {
   "cell_type": "code",
   "execution_count": null,
   "metadata": {},
   "outputs": [],
   "source": []
  }
 ],
 "metadata": {
  "language_info": {
   "name": "python"
  }
 },
 "nbformat": 4,
 "nbformat_minor": 2
}
