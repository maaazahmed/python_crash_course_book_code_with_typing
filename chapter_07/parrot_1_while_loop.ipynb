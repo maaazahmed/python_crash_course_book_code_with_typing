{
 "cells": [
  {
   "cell_type": "code",
   "execution_count": null,
   "metadata": {},
   "outputs": [],
   "source": [
    "prompt = \"\\nTell me something, and I will repeat it back to you:\"\n",
    "prompt += \"\\nEnter 'quit' to end the program. \"\n",
    "\n",
    "\n",
    "message:str = \"\"\n",
    "\n",
    "while message != \"quit\":\n",
    "    message:str =  input(prompt)\n",
    "    print(message)"
   ]
  }
 ],
 "metadata": {
  "language_info": {
   "name": "python"
  }
 },
 "nbformat": 4,
 "nbformat_minor": 2
}
