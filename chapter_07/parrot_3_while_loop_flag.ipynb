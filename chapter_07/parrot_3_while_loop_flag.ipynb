{
 "cells": [
  {
   "cell_type": "code",
   "execution_count": null,
   "metadata": {},
   "outputs": [],
   "source": [
    "prompt = \"\\nTell me something, and I will repeat it back to you:\"\n",
    "prompt += \"\\nEnter 'quit' to end the program. \"\n",
    "\n",
    "active:bool = True\n",
    "\n",
    "while active:\n",
    "    message = input(prompt)\n",
    "\n",
    "    if message == \"quit\":\n",
    "        active = False\n",
    "    else:\n",
    "        print(message)"
   ]
  }
 ],
 "metadata": {
  "language_info": {
   "name": "python"
  }
 },
 "nbformat": 4,
 "nbformat_minor": 2
}
