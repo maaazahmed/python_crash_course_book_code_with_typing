{
 "cells": [
  {
   "cell_type": "code",
   "execution_count": 3,
   "metadata": {},
   "outputs": [
    {
     "name": "stdout",
     "output_type": "stream",
     "text": [
      "Jimi Test Hendrix\n",
      "John Lee Hooker\n"
     ]
    }
   ],
   "source": [
    "def get_formatted_name(first_name:str, last_name:str, middle_name:str = \"\")->str:\n",
    "    \"\"\"Return a full name, neatly formatted.\"\"\"\n",
    "\n",
    "    if middle_name:\n",
    "        full_name:str = f\"{first_name} {middle_name} {last_name}\"\n",
    "    else:\n",
    "        full_name:str =  f\"{first_name} {last_name}\"\n",
    "    \n",
    "    return full_name.title()\n",
    "\n",
    "musician:str =  get_formatted_name('jimi', 'hendrix')\n",
    "print(musician)\n",
    "\n",
    "\n",
    "        \n",
    "musician:str =  get_formatted_name('john', 'hooker', 'lee')\n",
    "print(musician) \n",
    "\n"
   ]
  },
  {
   "cell_type": "code",
   "execution_count": null,
   "metadata": {},
   "outputs": [],
   "source": []
  }
 ],
 "metadata": {
  "kernelspec": {
   "display_name": "python_env_3_12",
   "language": "python",
   "name": "python3"
  },
  "language_info": {
   "codemirror_mode": {
    "name": "ipython",
    "version": 3
   },
   "file_extension": ".py",
   "mimetype": "text/x-python",
   "name": "python",
   "nbconvert_exporter": "python",
   "pygments_lexer": "ipython3",
   "version": "3.12.3"
  }
 },
 "nbformat": 4,
 "nbformat_minor": 2
}
