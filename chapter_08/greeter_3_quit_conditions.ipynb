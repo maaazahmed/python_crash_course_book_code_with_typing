{
 "cells": [
  {
   "cell_type": "code",
   "execution_count": 1,
   "metadata": {},
   "outputs": [
    {
     "name": "stdout",
     "output_type": "stream",
     "text": [
      "\n",
      "Please tell me your name:\n",
      "(enter 'q' at any time to quit)\n",
      "\n",
      "Hello, Aslam Khan!\n",
      "\n",
      "Please tell me your name:\n",
      "(enter 'q' at any time to quit)\n"
     ]
    }
   ],
   "source": [
    "def get_formatted_name(first_name:str, last_name:str)->str:\n",
    "    \"\"\"Return a full name, neatly formatted.\"\"\"\n",
    "    full_name = f\"{first_name} {last_name}\"\n",
    "\n",
    "    return full_name.title()\n",
    "\n",
    "\n",
    "while True:\n",
    "    print(\"\\nPlease tell me your name:\")\n",
    "    print(\"(enter 'q' at any time to quit)\")\n",
    "\n",
    "    f_name:str =  input(\"First Name: \")\n",
    "    if f_name == \"q\":\n",
    "        break\n",
    "\n",
    "    l_name:str = input(\"Last Name: \")\n",
    "    if l_name == \"q\":\n",
    "        break\n",
    "\n",
    "    formatted_name:str = get_formatted_name(f_name, l_name)\n",
    "\n",
    "    print(f\"\\nHello, {formatted_name}!\")\n",
    "\n",
    "    \n",
    "\n"
   ]
  },
  {
   "cell_type": "code",
   "execution_count": null,
   "metadata": {},
   "outputs": [],
   "source": []
  }
 ],
 "metadata": {
  "kernelspec": {
   "display_name": "python_env_3_12",
   "language": "python",
   "name": "python3"
  },
  "language_info": {
   "codemirror_mode": {
    "name": "ipython",
    "version": 3
   },
   "file_extension": ".py",
   "mimetype": "text/x-python",
   "name": "python",
   "nbconvert_exporter": "python",
   "pygments_lexer": "ipython3",
   "version": "3.12.3"
  }
 },
 "nbformat": 4,
 "nbformat_minor": 2
}
