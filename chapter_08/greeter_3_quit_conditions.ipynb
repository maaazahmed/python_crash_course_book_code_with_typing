{
 "cells": [
  {
   "cell_type": "code",
   "execution_count": null,
   "metadata": {},
   "outputs": [],
   "source": [
    "def get_formatted_name(first_name:str, last_name:str)->str:\n",
    "    \"\"\"Return a full name, neatly formatted.\"\"\"\n",
    "    full_name = f\"{first_name} {last_name}\"\n",
    "\n",
    "    return full_name.title()\n",
    "\n",
    "\n",
    "while True:\n",
    "    print(\"\\nPlease tell me your name:\")\n",
    "    print(\"(enter 'q' at any time to quit)\")\n",
    "\n",
    "    f_name:str =  input(\"First Name: \")\n",
    "    if f_name == \"q\":\n",
    "        break\n",
    "\n",
    "    l_name:str = input(\"Last Name: \")\n",
    "    if l_name == \"q\":\n",
    "        break\n",
    "\n",
    "    formatted_name:str = get_formatted_name(f_name, l_name)\n",
    "\n",
    "    print(f\"\\nHello, {formatted_name}!\")\n",
    "\n",
    "    \n",
    "\n"
   ]
  }
 ],
 "metadata": {
  "language_info": {
   "name": "python"
  }
 },
 "nbformat": 4,
 "nbformat_minor": 2
}
