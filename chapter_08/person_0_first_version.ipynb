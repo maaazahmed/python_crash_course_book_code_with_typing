{
 "cells": [
  {
   "cell_type": "code",
   "execution_count": 6,
   "metadata": {},
   "outputs": [
    {
     "name": "stdout",
     "output_type": "stream",
     "text": [
      "{'First Name': 'jimmi', 'Last Name': 'handrix'}\n",
      "First Name: jimmi\n",
      "Last Name: handrix\n"
     ]
    }
   ],
   "source": [
    "def build_person(first_name:str, last_name:str)->dict[str,str]:\n",
    "    \"\"\"Retuern a dictionary of information of a person\"\"\"\n",
    "    person:dict[str, str] =  {\"First Name\":first_name, \"Last Name\":last_name}\n",
    "    return person\n",
    "\n",
    "\n",
    "musician:dict[str, str] = build_person(\"jimmi\", \"handrix\")\n",
    "\n",
    "print(musician)\n",
    "\n",
    "\n",
    "for key,value in musician.items():\n",
    "    print(f\"{key}: {value}\")\n",
    "     \n",
    "\n",
    "\n"
   ]
  },
  {
   "cell_type": "code",
   "execution_count": 10,
   "metadata": {},
   "outputs": [
    {
     "name": "stdout",
     "output_type": "stream",
     "text": [
      "First Name: jimmi\n",
      "Last Name: handrix\n"
     ]
    }
   ],
   "source": [
    "var = [print(f\"{key}: {val}\") for key, val in musician.items()]\n",
    "\n"
   ]
  },
  {
   "cell_type": "code",
   "execution_count": null,
   "metadata": {},
   "outputs": [],
   "source": []
  }
 ],
 "metadata": {
  "kernelspec": {
   "display_name": "python_env_3_12",
   "language": "python",
   "name": "python3"
  },
  "language_info": {
   "codemirror_mode": {
    "name": "ipython",
    "version": 3
   },
   "file_extension": ".py",
   "mimetype": "text/x-python",
   "name": "python",
   "nbconvert_exporter": "python",
   "pygments_lexer": "ipython3",
   "version": "3.12.3"
  }
 },
 "nbformat": 4,
 "nbformat_minor": 2
}
