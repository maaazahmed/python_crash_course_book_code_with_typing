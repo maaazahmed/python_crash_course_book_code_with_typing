{
 "cells": [
  {
   "cell_type": "code",
   "execution_count": 2,
   "metadata": {},
   "outputs": [
    {
     "name": "stdout",
     "output_type": "stream",
     "text": [
      "{'First': 'jimi', 'Last': 'hendrix', 'age': 27}\n"
     ]
    }
   ],
   "source": [
    "from typing import Optional, Union\n",
    "\n",
    "def build_person(first_name:str, last_name:str, age:Union[int, None]=None)->dict:\n",
    "    \"\"\"Return a dictionary of information about a person.\"\"\"\n",
    "\n",
    "    person:dict[str, Union[str,int]] = {\"First\":first_name, \"Last\":last_name}\n",
    "\n",
    "    if age is not None:\n",
    "        person[\"age\"] = age\n",
    "    \n",
    "    return person\n",
    "\n",
    "musician: dict = build_person('jimi', 'hendrix', age=27)\n",
    "print(musician)\n",
    "\n"
   ]
  },
  {
   "cell_type": "code",
   "execution_count": null,
   "metadata": {},
   "outputs": [],
   "source": [
    "from typing import Optional, Union\n",
    "\n",
    "def build_person(first_name:str, last_name:str, age:Optional[int]=None)->dict:\n",
    "    \"\"\"Return a dictionary of information about a person.\"\"\"\n",
    "\n",
    "    person:dict[str, Union[str,int]] = {\"First\":first_name, \"Last\":last_name}\n",
    "\n",
    "    if age is not None:\n",
    "        person[\"age\"] = age\n",
    "    \n",
    "    return person\n",
    "\n",
    "musician: dict = build_person('jimi', 'hendrix', 12)\n",
    "print(musician)\n"
   ]
  }
 ],
 "metadata": {
  "kernelspec": {
   "display_name": "python_env_3_12",
   "language": "python",
   "name": "python3"
  },
  "language_info": {
   "codemirror_mode": {
    "name": "ipython",
    "version": 3
   },
   "file_extension": ".py",
   "mimetype": "text/x-python",
   "name": "python",
   "nbconvert_exporter": "python",
   "pygments_lexer": "ipython3",
   "version": "3.12.3"
  }
 },
 "nbformat": 4,
 "nbformat_minor": 2
}
